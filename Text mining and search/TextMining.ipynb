{
 "cells": [
  {
   "cell_type": "markdown",
   "metadata": {
    "id": "cb7uwDeh7VMC"
   },
   "source": [
    "\n",
    "\n",
    "# Uploading and processing data\n",
    "\n"
   ]
  },
  {
   "cell_type": "code",
   "execution_count": null,
   "metadata": {
    "colab": {
     "base_uri": "https://localhost:8080/"
    },
    "executionInfo": {
     "elapsed": 30809,
     "status": "ok",
     "timestamp": 1705504578715,
     "user": {
      "displayName": "Kamila Fido",
      "userId": "11048561443493888987"
     },
     "user_tz": -60
    },
    "id": "yKgJx5Bn_fCT",
    "outputId": "0aafcbda-6380-48fa-e121-d0abbed6a796"
   },
   "outputs": [
    {
     "name": "stdout",
     "output_type": "stream",
     "text": [
      "Mounted at /content/gdrive\n"
     ]
    }
   ],
   "source": [
    "from google.colab import drive\n",
    "drive.mount(\"/content/gdrive\")"
   ]
  },
  {
   "cell_type": "markdown",
   "metadata": {
    "id": "NcZWz41_3wBs"
   },
   "source": [
    "Extract data\n"
   ]
  },
  {
   "cell_type": "code",
   "execution_count": null,
   "metadata": {
    "id": "REay9N0FYR3c"
   },
   "outputs": [],
   "source": [
    "#execute once\n",
    "import zipfile\n",
    "\n",
    "zip_path = '/content/gdrive/My Drive/TM_PROJECT/blogs.zip'\n",
    "\n",
    "extract_path = '/content/gdrive/My Drive/TM_PROJECT'\n",
    "\n",
    "with zipfile.ZipFile(zip_path, 'r') as zip_ref:\n",
    "    zip_ref.extractall(extract_path)"
   ]
  },
  {
   "cell_type": "code",
   "execution_count": null,
   "metadata": {
    "id": "m7iqxD1zxm0i"
   },
   "outputs": [],
   "source": [
    "from bs4 import BeautifulSoup\n",
    "import os\n",
    "import pickle\n",
    "\n",
    "def process_xml_file(file_path):\n",
    "\n",
    "    with open(file_path, 'r', encoding='latin-1') as file:\n",
    "        content = file.read()\n",
    "\n",
    "    soup = BeautifulSoup(content, 'xml')\n",
    "    posts = []\n",
    "\n",
    "    for post in soup.find_all('post'):\n",
    "        posts.append(post.get_text(strip=True))\n",
    "\n",
    "    return posts\n",
    "\n",
    "def extract_age_from_filename(filename, parts):\n",
    "    parts = filename.split('.')\n",
    "    age = parts[2]  #the age is at the third position in the filename structure\n",
    "    return age\n",
    "\n",
    "\n",
    "\n",
    "directory = '/content/gdrive/My Drive/TM_PROJECT/blogs'\n",
    "\n",
    "text_data = []\n",
    "age_labels = []\n",
    "\n",
    "\n",
    "#go through all files in directory\n",
    "for filename in os.listdir(directory):\n",
    "    if filename.endswith('.xml'):\n",
    "        parts = filename.split('.')\n",
    "        file_path = os.path.join(directory, filename)\n",
    "        posts = process_xml_file(file_path)\n",
    "        age = extract_age_from_filename(filename, parts)\n",
    "\n",
    "        if posts:\n",
    "            combined_posts = ' '.join(posts)\n",
    "            text_data.append(combined_posts)\n",
    "            age_labels.append(age)\n",
    "\n",
    "\n",
    "#serialization\n",
    "pickle_file_path = '/content/gdrive/My Drive/TM_PROJECT/data.pkl'\n",
    "\n",
    "if not os.path.exists(pickle_file_path): #if file is not existing\n",
    "    with open(pickle_file_path, 'wb') as file: #write binary\n",
    "        pickle.dump((text_data, age_labels), file)"
   ]
  },
  {
   "cell_type": "code",
   "execution_count": null,
   "metadata": {
    "id": "JabO3OrmU6fo"
   },
   "outputs": [],
   "source": [
    "#load data back using pickle\n",
    "import pickle\n",
    "pickle_file_path = '/content/gdrive/My Drive/TM_PROJECT/data.pkl'\n",
    "with open(pickle_file_path, 'rb') as file: #read binary\n",
    "    text_data, age_labels, gender_labels = pickle.load(file)"
   ]
  },
  {
   "cell_type": "markdown",
   "metadata": {
    "id": "ldf__GBpqlxa"
   },
   "source": [
    "**Changing age for age_range**"
   ]
  },
  {
   "cell_type": "code",
   "execution_count": null,
   "metadata": {
    "id": "ai-QttuUquC8"
   },
   "outputs": [],
   "source": [
    "def convert_to_age_range(age):\n",
    "  if 13 <= int(age) <= 17:\n",
    "    return '13-17'\n",
    "  elif 23 <= int(age) <= 27:\n",
    "    return '23-27'\n",
    "  elif 33 <= int(age) <= 47:\n",
    "    return '33-47'\n",
    "  else:\n",
    "    return 'Other'\n",
    "\n",
    "age_labels = [convert_to_age_range(age) for age in age_labels]"
   ]
  },
  {
   "cell_type": "markdown",
   "metadata": {
    "id": "3F4HnpLaum6i"
   },
   "source": [
    "# PREPROCESSING"
   ]
  },
  {
   "cell_type": "code",
   "execution_count": null,
   "metadata": {
    "colab": {
     "base_uri": "https://localhost:8080/"
    },
    "executionInfo": {
     "elapsed": 1669778,
     "status": "ok",
     "timestamp": 1705506291150,
     "user": {
      "displayName": "Kamila Fido",
      "userId": "11048561443493888987"
     },
     "user_tz": -60
    },
    "id": "3DjKjpsN2DkN",
    "outputId": "02835da9-49aa-40a3-c3b8-c00912f13ee9"
   },
   "outputs": [
    {
     "name": "stderr",
     "output_type": "stream",
     "text": [
      "[nltk_data] Downloading package punkt to /root/nltk_data...\n",
      "[nltk_data]   Unzipping tokenizers/punkt.zip.\n",
      "[nltk_data] Downloading package stopwords to /root/nltk_data...\n",
      "[nltk_data]   Unzipping corpora/stopwords.zip.\n",
      "[nltk_data] Downloading package wordnet to /root/nltk_data...\n"
     ]
    }
   ],
   "source": [
    "import nltk\n",
    "import re\n",
    "from nltk.corpus import stopwords\n",
    "from nltk.stem import WordNetLemmatizer\n",
    "from nltk.tokenize import word_tokenize\n",
    "\n",
    "nltk.download('punkt')\n",
    "nltk.download('stopwords')\n",
    "nltk.download('wordnet')\n",
    "\n",
    "stop_words = set(stopwords.words('english'))\n",
    "lemmatizer = WordNetLemmatizer()\n",
    "\n",
    "def clean_text(text):\n",
    "    text = re.sub(r'<.*?>', '', text)\n",
    "    text = re.sub(r'[^a-zA-Z\\s]', '', text, re.I|re.A)\n",
    "    text = text.lower()\n",
    "    return text\n",
    "\n",
    "\n",
    "def preprocess_text(text):\n",
    "    text = clean_text(text)\n",
    "    tokens = word_tokenize(text)\n",
    "    tokens = [lemmatizer.lemmatize(word) for word in tokens if word not in stop_words]\n",
    "\n",
    "    return ' '.join(tokens)\n",
    "\n",
    "#applying preprocessing to each blog post\n",
    "preprocessed_text_data = [preprocess_text(post) for post in text_data]"
   ]
  },
  {
   "cell_type": "markdown",
   "metadata": {
    "id": "qVTYmgjc6XZU"
   },
   "source": [
    "#Embeeding and classification"
   ]
  },
  {
   "cell_type": "code",
   "execution_count": null,
   "metadata": {
    "colab": {
     "base_uri": "https://localhost:8080/"
    },
    "executionInfo": {
     "elapsed": 80730,
     "status": "ok",
     "timestamp": 1705506404871,
     "user": {
      "displayName": "Kamila Fido",
      "userId": "11048561443493888987"
     },
     "user_tz": -60
    },
    "id": "HEWi1tipPk3e",
    "outputId": "b10303eb-9b35-4916-b33e-82b70717c092"
   },
   "outputs": [
    {
     "name": "stdout",
     "output_type": "stream",
     "text": [
      "Collecting fasttext\n",
      "  Downloading fasttext-0.9.2.tar.gz (68 kB)\n",
      "\u001b[2K     \u001b[90m━━━━━━━━━━━━━━━━━━━━━━━━━━━━━━━━━━━━━━━━\u001b[0m \u001b[32m68.8/68.8 kB\u001b[0m \u001b[31m925.4 kB/s\u001b[0m eta \u001b[36m0:00:00\u001b[0m\n",
      "\u001b[?25h  Preparing metadata (setup.py) ... \u001b[?25l\u001b[?25hdone\n",
      "Collecting pybind11>=2.2 (from fasttext)\n",
      "  Using cached pybind11-2.11.1-py3-none-any.whl (227 kB)\n",
      "Requirement already satisfied: setuptools>=0.7.0 in /usr/local/lib/python3.10/dist-packages (from fasttext) (67.7.2)\n",
      "Requirement already satisfied: numpy in /usr/local/lib/python3.10/dist-packages (from fasttext) (1.23.5)\n",
      "Building wheels for collected packages: fasttext\n",
      "  Building wheel for fasttext (setup.py) ... \u001b[?25l\u001b[?25hdone\n",
      "  Created wheel for fasttext: filename=fasttext-0.9.2-cp310-cp310-linux_x86_64.whl size=4199774 sha256=8d33880a9ae1189e26789f29289a2973b6b8fc129e866d94ed8271ceb7cee4f3\n",
      "  Stored in directory: /root/.cache/pip/wheels/a5/13/75/f811c84a8ab36eedbaef977a6a58a98990e8e0f1967f98f394\n",
      "Successfully built fasttext\n",
      "Installing collected packages: pybind11, fasttext\n",
      "Successfully installed fasttext-0.9.2 pybind11-2.11.1\n"
     ]
    }
   ],
   "source": [
    "pip install fasttext"
   ]
  },
  {
   "cell_type": "code",
   "execution_count": null,
   "metadata": {
    "colab": {
     "base_uri": "https://localhost:8080/"
    },
    "executionInfo": {
     "elapsed": 2059053,
     "status": "ok",
     "timestamp": 1705508689310,
     "user": {
      "displayName": "Kamila Fido",
      "userId": "11048561443493888987"
     },
     "user_tz": -60
    },
    "id": "PmYaRknPHHCL",
    "outputId": "59117b4a-6d2c-4b97-f4e3-c4ad67328c82"
   },
   "outputs": [
    {
     "name": "stdout",
     "output_type": "stream",
     "text": [
      "Downloading https://dl.fbaipublicfiles.com/fasttext/vectors-crawl/cc.en.300.bin.gz\n",
      "\n"
     ]
    },
    {
     "name": "stderr",
     "output_type": "stream",
     "text": [
      "Warning : `load_model` does not return WordVectorModel or SupervisedModel any more, but a `FastText` object which is very similar.\n"
     ]
    }
   ],
   "source": [
    "from sklearn.feature_extraction.text import TfidfVectorizer\n",
    "from sklearn.tree import DecisionTreeClassifier\n",
    "from sklearn.model_selection import train_test_split\n",
    "from sklearn.metrics import accuracy_score\n",
    "import fasttext.util\n",
    "\n",
    "#loading FastText model\n",
    "fasttext.util.download_model('en', if_exists='ignore')\n",
    "ft_model = fasttext.load_model('cc.en.300.bin')\n",
    "\n",
    "#vectorize text with FastText\n",
    "def vectorize_text(text):\n",
    "    words = text.split()\n",
    "    word_vectors = [ft_model.get_word_vector(word) for word in words]\n",
    "    return sum(word_vectors) / len(word_vectors)"
   ]
  },
  {
   "cell_type": "code",
   "execution_count": null,
   "metadata": {
    "id": "qe9C9_agY-TP"
   },
   "outputs": [],
   "source": [
    "#vectorizing each blog post\n",
    "vectorized_data = [vectorize_text(post) for post in preprocessed_text_data]"
   ]
  },
  {
   "cell_type": "code",
   "execution_count": null,
   "metadata": {
    "colab": {
     "base_uri": "https://localhost:8080/"
    },
    "executionInfo": {
     "elapsed": 212239,
     "status": "ok",
     "timestamp": 1705510115763,
     "user": {
      "displayName": "Kamila Fido",
      "userId": "11048561443493888987"
     },
     "user_tz": -60
    },
    "id": "P4pWwZ8vZ_cE",
    "outputId": "7341bfca-6aba-4868-9bd3-f24bc4ba35f3"
   },
   "outputs": [
    {
     "name": "stderr",
     "output_type": "stream",
     "text": [
      "/usr/local/lib/python3.10/dist-packages/sklearn/metrics/_classification.py:1344: UndefinedMetricWarning: Precision is ill-defined and being set to 0.0 in labels with no predicted samples. Use `zero_division` parameter to control this behavior.\n",
      "  _warn_prf(average, modifier, msg_start, len(result))\n"
     ]
    },
    {
     "name": "stdout",
     "output_type": "stream",
     "text": [
      "Metrics for SVC:\n",
      "Accuracy: 0.7054865424430642\n",
      "Precision: 0.622960111484981\n",
      "Recall: 0.7054865424430642\n",
      "F1 Score: 0.6522651349941868\n",
      "\n"
     ]
    },
    {
     "name": "stderr",
     "output_type": "stream",
     "text": [
      "/usr/local/lib/python3.10/dist-packages/sklearn/metrics/_classification.py:1344: UndefinedMetricWarning: Precision is ill-defined and being set to 0.0 in labels with no predicted samples. Use `zero_division` parameter to control this behavior.\n",
      "  _warn_prf(average, modifier, msg_start, len(result))\n"
     ]
    },
    {
     "name": "stdout",
     "output_type": "stream",
     "text": [
      "Metrics for RandomForestClassifier:\n",
      "Accuracy: 0.6790890269151139\n",
      "Precision: 0.6710008384271616\n",
      "Recall: 0.6790890269151139\n",
      "F1 Score: 0.6519414550262085\n",
      "\n"
     ]
    },
    {
     "name": "stderr",
     "output_type": "stream",
     "text": [
      "/usr/local/lib/python3.10/dist-packages/sklearn/neural_network/_multilayer_perceptron.py:686: ConvergenceWarning: Stochastic Optimizer: Maximum iterations (200) reached and the optimization hasn't converged yet.\n",
      "  warnings.warn(\n",
      "/usr/local/lib/python3.10/dist-packages/sklearn/metrics/_classification.py:1344: UndefinedMetricWarning: Precision is ill-defined and being set to 0.0 in labels with no predicted samples. Use `zero_division` parameter to control this behavior.\n",
      "  _warn_prf(average, modifier, msg_start, len(result))\n"
     ]
    },
    {
     "name": "stdout",
     "output_type": "stream",
     "text": [
      "Metrics for MLPClassifier:\n",
      "Accuracy: 0.7575051759834368\n",
      "Precision: 0.751080253375395\n",
      "Recall: 0.7575051759834368\n",
      "F1 Score: 0.745981619866796\n",
      "\n",
      "Metrics for DecisionTreeClassifier:\n",
      "Accuracy: 0.5778985507246377\n",
      "Precision: 0.5817979417546536\n",
      "Recall: 0.5778985507246377\n",
      "F1 Score: 0.5797931984715349\n",
      "\n"
     ]
    }
   ],
   "source": [
    "from sklearn.svm import SVC\n",
    "from sklearn.ensemble import RandomForestClassifier\n",
    "from sklearn.neural_network import MLPClassifier\n",
    "from sklearn.metrics import accuracy_score, precision_score, recall_score, f1_score\n",
    "\n",
    "X_train, X_test, y_train, y_test = train_test_split(vectorized_data, age_labels, test_size=0.2, random_state=42)\n",
    "\n",
    "#classifiers\n",
    "svc = SVC()\n",
    "random_forest = RandomForestClassifier()\n",
    "neural_network = MLPClassifier()\n",
    "clf = DecisionTreeClassifier()\n",
    "\n",
    "for classifier in [svc, random_forest, neural_network, clf]:\n",
    "    classifier.fit(X_train, y_train)\n",
    "    y_pred = classifier.predict(X_test)\n",
    "\n",
    "    accuracy = accuracy_score(y_test, y_pred)\n",
    "    precision = precision_score(y_test, y_pred, average='weighted')\n",
    "    recall = recall_score(y_test, y_pred, average='weighted')\n",
    "    f1 = f1_score(y_test, y_pred, average='weighted')\n",
    "\n",
    "    print(f\"Metrics for {classifier.__class__.__name__}:\")\n",
    "    print(f\"Accuracy: {accuracy}\")\n",
    "    print(f\"Precision: {precision}\")\n",
    "    print(f\"Recall: {recall}\")\n",
    "    print(f\"F1 Score: {f1}\\n\")"
   ]
  },
  {
   "cell_type": "markdown",
   "metadata": {
    "id": "1SMBB52Cnqfr"
   },
   "source": [
    "**CHECKING THE DISTRIBIUTION**"
   ]
  },
  {
   "cell_type": "code",
   "execution_count": null,
   "metadata": {
    "colab": {
     "base_uri": "https://localhost:8080/",
     "height": 541
    },
    "executionInfo": {
     "elapsed": 702,
     "status": "ok",
     "timestamp": 1705510135773,
     "user": {
      "displayName": "Kamila Fido",
      "userId": "11048561443493888987"
     },
     "user_tz": -60
    },
    "id": "RJlhV0eSnqLM",
    "outputId": "21fcf71f-3291-45e5-fece-56074abc8ae5"
   },
   "outputs": [
    {
     "data": {
      "image/png": "[encoded data removed]",
      "text/plain": [
       "<Figure size 640x480 with 1 Axes>"
      ]
     },
     "metadata": {},
     "output_type": "display_data"
    },
    {
     "name": "stdout",
     "output_type": "stream",
     "text": [
      "Label: 33-47, Count: 2917\n",
      "Label: 13-17, Count: 8240\n",
      "Label: 23-27, Count: 8086\n",
      "Label: Other, Count: 77\n"
     ]
    }
   ],
   "source": [
    "from collections import Counter\n",
    "import matplotlib.pyplot as plt\n",
    "\n",
    "#create a Counter to count occurrences of each label\n",
    "label_counts = Counter(age_labels)\n",
    "\n",
    "#plotting the distribution\n",
    "labels, counts = zip(*label_counts.items())\n",
    "\n",
    "plt.bar(labels, counts)\n",
    "plt.xlabel('Age Labels')\n",
    "plt.ylabel('Count')\n",
    "plt.title('Distribution of Data in Different Age Classes')\n",
    "plt.show()\n",
    "\n",
    "#printing counts for each label\n",
    "for label, count in label_counts.items():\n",
    "    print(f\"Label: {label}, Count: {count}\")"
   ]
  }
 ],
 "metadata": {
  "colab": {
   "provenance": []
  },
  "kernelspec": {
   "display_name": "Python 3 (ipykernel)",
   "language": "python",
   "name": "python3"
  },
  "language_info": {
   "codemirror_mode": {
    "name": "ipython",
    "version": 3
   },
   "file_extension": ".py",
   "mimetype": "text/x-python",
   "name": "python",
   "nbconvert_exporter": "python",
   "pygments_lexer": "ipython3",
   "version": "3.11.5"
  }
 },
 "nbformat": 4,
 "nbformat_minor": 1
}
